{
 "cells": [
  {
   "cell_type": "code",
   "execution_count": 1,
   "metadata": {},
   "outputs": [
    {
     "name": "stdout",
     "output_type": "stream",
     "text": [
      "Created: input_1.csv\n",
      "Created: input_2.csv\n",
      "Created: input_3.csv\n",
      "Created: input_4.csv\n",
      "Created: input_5.csv\n",
      "Created: input_6.csv\n",
      "Created: input_7.csv\n",
      "Created: input_8.csv\n",
      "Created: input_9.csv\n",
      "Created: input_10.csv\n",
      "Created: input_11.csv\n",
      "Created: input_12.csv\n",
      "Created: input_13.csv\n",
      "Created: input_14.csv\n"
     ]
    }
   ],
   "source": [
    "import csv\n",
    "\n",
    "def split_csv(input_file, output_prefix, rows_per_file):\n",
    "    with open(input_file, 'r', newline='', encoding='utf-8') as infile:\n",
    "        reader = csv.reader(infile)\n",
    "        header = next(reader)  # Read the header row\n",
    "\n",
    "        file_count = 1\n",
    "        rows = []\n",
    "\n",
    "        for row in reader:\n",
    "            rows.append(row)\n",
    "            if len(rows) == rows_per_file:\n",
    "                output_file = f\"{output_prefix}_{file_count}.csv\"\n",
    "                with open(output_file, 'w', newline='', encoding='utf-8') as outfile:\n",
    "                    writer = csv.writer(outfile)\n",
    "                    writer.writerow(header)  # Write the header\n",
    "                    writer.writerows(rows)  # Write the chunk of rows\n",
    "                print(f\"Created: {output_file}\")\n",
    "                rows = []\n",
    "                file_count += 1\n",
    "\n",
    "        # Write remaining rows (if any)\n",
    "        if rows:\n",
    "            output_file = f\"{output_prefix}_{file_count}.csv\"\n",
    "            with open(output_file, 'w', newline='', encoding='utf-8') as outfile:\n",
    "                writer = csv.writer(outfile)\n",
    "                writer.writerow(header)  # Write the header\n",
    "                writer.writerows(rows)  # Write the remaining rows\n",
    "            print(f\"Created: {output_file}\")\n",
    "\n",
    "# Example usage\n",
    "input_file = 'input_all.csv'  # Replace with your input file name\n",
    "output_prefix = 'input'  # Replace with your desired output file prefix\n",
    "rows_per_file = 5700      # Number of rows per split file\n",
    "\n",
    "split_csv(input_file, output_prefix, rows_per_file)\n"
   ]
  },
  {
   "cell_type": "code",
   "execution_count": 2,
   "metadata": {},
   "outputs": [
    {
     "name": "stdout",
     "output_type": "stream",
     "text": [
      "Created: input_2.csv\n",
      "Created: input_3.csv\n",
      "Created: input_4.csv\n",
      "Created: input_5.csv\n",
      "Created: input_6.csv\n",
      "Created: input_7.csv\n",
      "Created: input_8.csv\n",
      "Created: input_9.csv\n",
      "Created: input_10.csv\n",
      "Created: input_11.csv\n",
      "Created: input_12.csv\n",
      "Created: input_13.csv\n",
      "Created: input_14.csv\n",
      "Created: input_15.csv\n",
      "Created: input_16.csv\n",
      "Created: input_17.csv\n",
      "Created: input_18.csv\n"
     ]
    }
   ],
   "source": [
    "import csv\n",
    "\n",
    "def split_csv(input_file, output_prefix, rows_to_skip, rows_per_file):\n",
    "    with open(input_file, 'r', newline='', encoding='utf-8') as infile:\n",
    "        reader = csv.reader(infile)\n",
    "        header = next(reader)  # Read the header row\n",
    "\n",
    "        # Skip the first rows_to_skip rows\n",
    "        for _ in range(rows_to_skip - 1):  # Subtract 1 because header is already read\n",
    "            next(reader, None)\n",
    "\n",
    "        file_count = 2  # Start naming files from input_2\n",
    "        rows = []\n",
    "\n",
    "        for row in reader:\n",
    "            rows.append(row)\n",
    "            if len(rows) == rows_per_file:\n",
    "                output_file = f\"{output_prefix}_{file_count}.csv\"\n",
    "                with open(output_file, 'w', newline='', encoding='utf-8') as outfile:\n",
    "                    writer = csv.writer(outfile)\n",
    "                    writer.writerow(header)  # Write the header\n",
    "                    writer.writerows(rows)  # Write the chunk of rows\n",
    "                print(f\"Created: {output_file}\")\n",
    "                rows = []\n",
    "                file_count += 1\n",
    "\n",
    "        # Write remaining rows (if any)\n",
    "        if rows:\n",
    "            output_file = f\"{output_prefix}_{file_count}.csv\"\n",
    "            with open(output_file, 'w', newline='', encoding='utf-8') as outfile:\n",
    "                writer = csv.writer(outfile)\n",
    "                writer.writerow(header)  # Write the header\n",
    "                writer.writerows(rows)  # Write the remaining rows\n",
    "            print(f\"Created: {output_file}\")\n",
    "\n",
    "# Example usage\n",
    "input_file = 'input_all.csv'  # Replace with your input file name\n",
    "output_prefix = 'input'  # Replace with your desired output file prefix\n",
    "rows_to_skip = 5701      # Number of rows to skip at the start (including the header)\n",
    "rows_per_file = 4500      # Number of rows per split file\n",
    "\n",
    "split_csv(input_file, output_prefix, rows_to_skip, rows_per_file)\n"
   ]
  }
 ],
 "metadata": {
  "kernelspec": {
   "display_name": "pap",
   "language": "python",
   "name": "python3"
  },
  "language_info": {
   "codemirror_mode": {
    "name": "ipython",
    "version": 3
   },
   "file_extension": ".py",
   "mimetype": "text/x-python",
   "name": "python",
   "nbconvert_exporter": "python",
   "pygments_lexer": "ipython3",
   "version": "3.8.20"
  }
 },
 "nbformat": 4,
 "nbformat_minor": 2
}
